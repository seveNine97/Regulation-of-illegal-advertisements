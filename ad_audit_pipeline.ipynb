{
 "cells": [
  {
   "cell_type": "markdown",
   "id": "bb5b0458",
   "metadata": {},
   "source": [
    "\"\"\"\n",
    "End-to-End 广告审核治理系统 Demo\n",
    "包含：\n",
    "1. 规则层 + OCR（模拟）\n",
    "2. 文本/数值特征建模 + SMOTE/class_weight\n",
    "3. PR 曲线阈值优化\n",
    "4. SHAP 模型解释\n",
    "\n",
    "依赖：\n",
    "pip install scikit-learn imbalanced-learn lightgbm shap sentence-transformers rapidfuzz pillow pytesseract matplotlib\n",
    "\"\"\""
   ]
  },
  {
   "cell_type": "code",
   "execution_count": null,
   "id": "fd60bdba",
   "metadata": {},
   "outputs": [],
   "source": [
    "import re, unicodedata, os\n",
    "import numpy as np\n",
    "import pandas as pd\n",
    "from rapidfuzz import fuzz"
   ]
  },
  {
   "cell_type": "markdown",
   "id": "e87f4cf7",
   "metadata": {},
   "source": [
    "## ========= 1. 模拟数据生成 =========="
   ]
  },
  {
   "cell_type": "code",
   "execution_count": null,
   "id": "a2f25540",
   "metadata": {},
   "outputs": [],
   "source": [
    "np.random.seed(42)\n",
    "N = 2000\n",
    "texts = np.random.choice([\n",
    "    \"Free iPhone click now\", \"Limited offer discount shoes\", \"Educational course in AI\",\n",
    "    \"Normal clothing ad\", \"High quality electronics sale\", \"Get rich quick!!!\"\n",
    "], size=N)\n",
    "ocr_variants = []\n",
    "for t in texts:\n",
    "    if \"Free\" in t or \"rich\" in t:\n",
    "        ocr_variants.append(t if np.random.rand() < 0.5 else \"\")\n",
    "    else:\n",
    "        ocr_variants.append(\"\")\n",
    "ocr = np.array(ocr_variants)\n",
    "ctr = np.random.beta(1.2, 10, size=N)\n",
    "impr_1h = np.random.poisson(50, size=N)\n",
    "adv_hist_violation = np.random.binomial(1, 0.05, size=N)\n",
    "labels = np.array([1 if (\"Free\" in t or \"rich\" in t) else 0 for t in texts])\n",
    "flip_idx = np.random.choice(N, size=int(0.02*N), replace=False)\n",
    "labels[flip_idx] = 1 - labels[flip_idx]\n",
    "df = pd.DataFrame({\n",
    "    \"ad_text\": texts,\n",
    "    \"ocr_text\": ocr,\n",
    "    \"ctr\": ctr,\n",
    "    \"impr_1h\": impr_1h,\n",
    "    \"adv_hist_violation\": adv_hist_violation,\n",
    "    \"label\": labels\n",
    "})"
   ]
  },
  {
   "cell_type": "markdown",
   "id": "816fb502",
   "metadata": {},
   "source": [
    "## ========= 2. 规则层 + OCR 模拟过滤 =========="
   ]
  },
  {
   "cell_type": "code",
   "execution_count": null,
   "id": "ed40377c",
   "metadata": {},
   "outputs": [],
   "source": [
    "def normalize_text(s):\n",
    "    if pd.isna(s): return \"\"\n",
    "    s = unicodedata.normalize('NFKC', str(s))\n",
    "    return s.replace('\\u200b','').lower().strip()\n",
    "\n",
    "def rule_check_text(text):\n",
    "    text = normalize_text(text)\n",
    "    rules = [r\"100%中奖\", r\"free\", r\"get rich\", r\"免费\"]\n",
    "    for p in rules:\n",
    "        if re.search(p, text, flags=re.I):\n",
    "            return True, p\n",
    "    if fuzz.partial_ratio(\"free\", text) > 85:\n",
    "        return True, \"fuzzy:free\"\n",
    "    return False, None\n",
    "\n",
    "df['rule_block'] = df['ad_text'].apply(lambda x: rule_check_text(x)[0]) | df['ocr_text'].apply(lambda x: rule_check_text(x)[0])\n",
    "print(\"Rule-blocked samples:\", df['rule_block'].sum())"
   ]
  },
  {
   "cell_type": "markdown",
   "id": "cde0c4f8",
   "metadata": {},
   "source": [
    "## ========= 3. 特征提取（文本嵌入 + 数值特征） =========="
   ]
  },
  {
   "cell_type": "code",
   "execution_count": null,
   "id": "2ab42dd3",
   "metadata": {},
   "outputs": [],
   "source": [
    "from sentence_transformers import SentenceTransformer\n",
    "text_model = SentenceTransformer('all-MiniLM-L6-v2')\n",
    "docs = (df['ad_text'].fillna('') + \" \" + df['ocr_text'].fillna('')).tolist()\n",
    "text_emb = text_model.encode(docs, show_progress_bar=True, batch_size=64)\n",
    "num_feats = df[['ctr','impr_1h','adv_hist_violation']].values\n",
    "X = np.hstack([text_emb, num_feats])\n",
    "y = df['label'].values"
   ]
  },
  {
   "cell_type": "markdown",
   "id": "665219ac",
   "metadata": {},
   "source": [
    "## ========= 4. 训练集/验证集划分 =========="
   ]
  },
  {
   "cell_type": "code",
   "execution_count": null,
   "id": "cb5a40f1",
   "metadata": {},
   "outputs": [],
   "source": [
    "from sklearn.model_selection import train_test_split\n",
    "X_train, X_val, y_train, y_val = train_test_split(X, y, test_size=0.2, stratify=y, random_state=42)"
   ]
  },
  {
   "cell_type": "markdown",
   "id": "14c0c2a0",
   "metadata": {},
   "source": [
    "## ========= 5. 不平衡处理 + 模型训练 =========="
   ]
  },
  {
   "cell_type": "code",
   "execution_count": null,
   "id": "c0c32683",
   "metadata": {},
   "outputs": [],
   "source": [
    "import lightgbm as lgb\n",
    "from sklearn.metrics import average_precision_score, roc_auc_score\n",
    "\n",
    "n_pos = y_train.sum()\n",
    "n_neg = len(y_train) - n_pos\n",
    "scale_pos_weight = max(1.0, n_neg / max(1, n_pos))\n",
    "clf = lgb.LGBMClassifier(n_estimators=200, scale_pos_weight=scale_pos_weight)\n",
    "clf.fit(X_train, y_train)\n",
    "probs_val = clf.predict_proba(X_val)[:,1]\n",
    "print(\"AP:\", average_precision_score(y_val, probs_val), \"AUC:\", roc_auc_score(y_val, probs_val))"
   ]
  },
  {
   "cell_type": "markdown",
   "id": "216c970d",
   "metadata": {},
   "source": [
    "## ========= 6. PR 曲线阈值选择 =========="
   ]
  },
  {
   "cell_type": "code",
   "execution_count": null,
   "id": "64624965",
   "metadata": {},
   "outputs": [],
   "source": [
    "from sklearn.metrics import precision_recall_curve, confusion_matrix\n",
    "precision, recall, thresholds = precision_recall_curve(y_val, probs_val)\n",
    "C_FP, C_FN = 1.0, 50.0\n",
    "best_t, best_cost = 0.5, float('inf')\n",
    "for t in np.linspace(0.01, 0.99, 50):\n",
    "    y_pred = (probs_val >= t).astype(int)\n",
    "    tn, fp, fn, tp = confusion_matrix(y_val, y_pred).ravel()\n",
    "    cost = C_FP*fp + C_FN*fn\n",
    "    if cost < best_cost:\n",
    "        best_cost, best_t = cost, t\n",
    "print(\"Best threshold:\", best_t, \"with cost:\", best_cost)"
   ]
  },
  {
   "cell_type": "markdown",
   "id": "a9115358",
   "metadata": {},
   "source": [
    "## ========= 7. SHAP 模型解释 =========="
   ]
  },
  {
   "cell_type": "code",
   "execution_count": null,
   "id": "e07be0ce",
   "metadata": {},
   "outputs": [],
   "source": [
    "try:\n",
    "    import shap, matplotlib.pyplot as plt\n",
    "    explainer = shap.TreeExplainer(clf)\n",
    "    shap_values = explainer.shap_values(X_val)\n",
    "    if isinstance(shap_values, list):\n",
    "        shap_values = shap_values[1]\n",
    "    shap.summary_plot(shap_values, X_val, show=False)\n",
    "    plt.savefig(\"shap_summary.png\")\n",
    "    print(\"Saved SHAP summary plot to shap_summary.png\")\n",
    "except Exception as e:\n",
    "    print(\"SHAP failed:\", e)"
   ]
  },
  {
   "cell_type": "markdown",
   "id": "7247ac6a",
   "metadata": {},
   "source": [
    "## ========= 8. 测试接口示例 =========="
   ]
  },
  {
   "cell_type": "code",
   "execution_count": null,
   "id": "0239ebd3",
   "metadata": {},
   "outputs": [],
   "source": [
    "def predict_ad(ad_text, ocr_text=\"\", ctr=0.05, impr_1h=10, adv_hist_violation=0):\n",
    "    # 规则层\n",
    "    rule_block, reason = rule_check_text(ad_text)\n",
    "    if rule_block:\n",
    "        return {\"block\": True, \"reason\": reason}\n",
    "    # 特征\n",
    "    doc = ad_text + \" \" + ocr_text\n",
    "    emb = text_model.encode([doc])\n",
    "    feats = np.hstack([emb, [[ctr, impr_1h, adv_hist_violation]]])\n",
    "    prob = clf.predict_proba(feats)[:,1][0]\n",
    "    decision = (prob >= best_t)\n",
    "    return {\"block\": bool(decision), \"prob\": float(prob), \"threshold\": float(best_t)}\n",
    "\n",
    "print(\"Test ad:\", predict_ad(\"Free bitcoin win now\"))\n",
    "print(\"Test ad:\", predict_ad(\"Educational AI course\"))"
   ]
  }
 ],
 "metadata": {
  "language_info": {
   "name": "python"
  }
 },
 "nbformat": 4,
 "nbformat_minor": 5
}
