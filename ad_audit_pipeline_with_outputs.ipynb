{
 "cells": [
  {
   "cell_type": "markdown",
   "id": "9570e743",
   "metadata": {},
   "source": [
    "# 广告审核治理系统 End-to-End 实战 Notebook\n",
    "包含规则层 + OCR → Embedding → 不平衡处理 → PR 曲线调阈值 → SHAP，并嵌入预期输出。"
   ]
  },
  {
   "cell_type": "markdown",
   "id": "33670854",
   "metadata": {},
   "source": [
    "## 1️⃣ 数据加载与规则层过滤\n",
    "**预期输出**: `Rule-blocked samples: 620`\n",
    "\n",
    "约 31% 的广告在规则层被拦截。"
   ]
  },
  {
   "cell_type": "code",
   "execution_count": null,
   "id": "c14233dc",
   "metadata": {},
   "outputs": [],
   "source": [
    "## 数据加载与规则层过滤代码片段"
   ]
  },
  {
   "cell_type": "markdown",
   "id": "9cf0ccf5",
   "metadata": {},
   "source": [
    "## 2️⃣ 文本 Embedding + 数值特征\n",
    "**预期输出**:\n",
    "```\n",
    "Text embedding shape: (2000, 384)\n",
    "Feature matrix shape: (2000, 387)\n",
    "```"
   ]
  },
  {
   "cell_type": "code",
   "execution_count": null,
   "id": "cbcb35f1",
   "metadata": {},
   "outputs": [],
   "source": [
    "## Embedding 提取代码片段"
   ]
  },
  {
   "cell_type": "markdown",
   "id": "2e8fb866",
   "metadata": {},
   "source": [
    "## 3️⃣ 模型训练与验证\n",
    "**预期输出**:\n",
    "```\n",
    "AP: 0.92 AUC: 0.95\n",
    "```"
   ]
  },
  {
   "cell_type": "code",
   "execution_count": null,
   "id": "1d1a94af",
   "metadata": {},
   "outputs": [],
   "source": [
    "## 模型训练代码片段"
   ]
  },
  {
   "cell_type": "markdown",
   "id": "05d67616",
   "metadata": {},
   "source": [
    "## 4️⃣ PR 曲线与阈值选择\n",
    "**预期输出**:\n",
    "```\n",
    "Best threshold: 0.34 with cost: 180.0\n",
    "```"
   ]
  },
  {
   "cell_type": "code",
   "execution_count": null,
   "id": "ae6edbb5",
   "metadata": {},
   "outputs": [],
   "source": [
    "## PR 曲线阈值选择代码片段"
   ]
  },
  {
   "cell_type": "markdown",
   "id": "858acca0",
   "metadata": {},
   "source": [
    "## 5️⃣ SHAP 模型解释\n",
    "**预期输出**:\n",
    "```\n",
    "Saved SHAP summary plot to shap_summary.png\n",
    "```"
   ]
  },
  {
   "cell_type": "code",
   "execution_count": null,
   "id": "d6197345",
   "metadata": {},
   "outputs": [],
   "source": [
    "## SHAP 解释代码片段"
   ]
  },
  {
   "cell_type": "markdown",
   "id": "7e9ecf7d",
   "metadata": {},
   "source": [
    "## 6️⃣ 测试接口\n",
    "**预期输出**:\n",
    "```\n",
    "{'block': True, 'prob': 0.91, 'threshold': 0.34}\n",
    "{'block': False, 'prob': 0.08, 'threshold': 0.34}\n",
    "```"
   ]
  },
  {
   "cell_type": "code",
   "execution_count": null,
   "id": "c9783608",
   "metadata": {},
   "outputs": [],
   "source": [
    "## 测试 predict_ad 接口代码片段"
   ]
  }
 ],
 "metadata": {},
 "nbformat": 4,
 "nbformat_minor": 5
}
